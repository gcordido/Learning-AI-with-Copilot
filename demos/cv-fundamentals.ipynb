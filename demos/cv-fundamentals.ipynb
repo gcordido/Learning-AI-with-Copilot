{
 "cells": [
  {
   "attachments": {},
   "cell_type": "markdown",
   "metadata": {},
   "source": [
    "# Computer Vision Fundamentals\n",
    "\n",
    "By using the provided questions, we can leverage GitHub Copilot's assistance in answering (and learning) the topic at hand. Pressing `ENTER` at the end of each question, followed by pressing the `Tab` key once the CoPilot suggestion pops up, will carry out the demo as shown in the videos."
   ]
  },
  {
   "attachments": {},
   "cell_type": "markdown",
   "metadata": {},
   "source": [
    "### What is Computer Vision?"
   ]
  },
  {
   "cell_type": "code",
   "execution_count": null,
   "metadata": {},
   "outputs": [],
   "source": [
    "#Q: What is a basic definition of Computer Vision?\n",
    "\n",
    "#Q: And how are machine learning and AI used in Computer Vision?\n",
    "\n",
    "#Q: What machine learning structure is most commonly used in Computer Vision?"
   ]
  },
  {
   "attachments": {},
   "cell_type": "markdown",
   "metadata": {},
   "source": [
    "### What is a Neural Network?"
   ]
  },
  {
   "cell_type": "code",
   "execution_count": null,
   "metadata": {},
   "outputs": [],
   "source": [
    "#Q: What is a Neural Network?\n",
    "\n",
    "#Q: What differentiates a convolutional neural network from a regular neural network?\n",
    "\n",
    "#Q: What tools are most commonly used to work with Convolutional Neural Networks?"
   ]
  },
  {
   "attachments": {},
   "cell_type": "markdown",
   "metadata": {},
   "source": [
    "### PyTorch"
   ]
  },
  {
   "cell_type": "code",
   "execution_count": null,
   "metadata": {},
   "outputs": [],
   "source": [
    "#Q What is PyTorch?\n",
    "\n",
    "#Q: What is a tensor?"
   ]
  }
 ],
 "metadata": {
  "language_info": {
   "name": "python"
  },
  "orig_nbformat": 4
 },
 "nbformat": 4,
 "nbformat_minor": 2
}
